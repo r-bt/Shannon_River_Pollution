{
 "cells": [
  {
   "cell_type": "code",
   "execution_count": 1,
   "metadata": {},
   "outputs": [],
   "source": [
    "import matplotlib.pyplot as plt\n",
    "import cartopy.crs as ccrs\n",
    "import cartopy.feature as cf\n",
    "import cartopy.io.shapereader as shapereader\n",
    "import numpy as np"
   ]
  },
  {
   "cell_type": "code",
   "execution_count": 2,
   "metadata": {},
   "outputs": [],
   "source": [
    "SHANNON_EXTENT = [-9, -7, 52.5, 54.25]"
   ]
  },
  {
   "cell_type": "raw",
   "metadata": {},
   "source": [
    "# fig = plt.figure(figsize=(8, 8))\n",
    "# ax = plt.axes(projection=ccrs.epsg(29902))\n",
    "# ax.set_title(\"Ireland - River Shannon\")\n",
    "# ax.add_feature(river_features)\n",
    "# ax.add_feature(coastline_feature)\n",
    "# ax.set_extent(SHANNON_EXTENT, crs=ccrs.PlateCarree())"
   ]
  },
  {
   "cell_type": "code",
   "execution_count": 3,
   "metadata": {
    "scrolled": false
   },
   "outputs": [
    {
     "data": {
      "image/png": "[encoded data removed]",
      "text/plain": [
       "<Figure size 576x576 with 1 Axes>"
      ]
     },
     "metadata": {
      "needs_background": "light"
     },
     "output_type": "display_data"
    }
   ],
   "source": [
    "rivers_file = shapereader.natural_earth(\n",
    "    resolution = '10m',\n",
    "    category = 'physical',\n",
    "    name = 'rivers_lake_centerlines_scale_rank'\n",
    ")\n",
    "\n",
    "rivers_shp = shapereader.Reader(rivers_file)\n",
    "\n",
    "fig = plt.figure(figsize=(8, 8))\n",
    "ax = plt.axes(projection=ccrs.epsg(29902))\n",
    "ax.set_title(\"Ireland - River Shannon\")\n",
    "\n",
    "for rec in rivers_shp.records():\n",
    "    if rec.attributes['name'] == 'Shannon':\n",
    "        ax.add_geometries([rec.geometry], ccrs.PlateCarree(), edgecolor='black', facecolor='blue')\n",
    "    pass\n",
    "\n",
    "ax.coastlines(resolution='50m')\n",
    "ax.set_extent(SHANNON_EXTENT)\n"
   ]
  },
  {
   "cell_type": "markdown",
   "metadata": {},
   "source": [
    "## Extracting coordiantes of the river"
   ]
  },
  {
   "cell_type": "code",
   "execution_count": 4,
   "metadata": {},
   "outputs": [],
   "source": [
    "shannon_cords = []\n",
    "\n",
    "for rec in rivers_shp.records():\n",
    "    if rec.attributes['name'] == 'Shannon':\n",
    "        for linestring in rec.geometry:\n",
    "            for coords in linestring.coords:\n",
    "                shannon_cords.append(coords)\n",
    "    pass"
   ]
  },
  {
   "cell_type": "code",
   "execution_count": 5,
   "metadata": {},
   "outputs": [],
   "source": [
    "boundary = np.array(shannon_cords)"
   ]
  },
  {
   "cell_type": "code",
   "execution_count": 7,
   "metadata": {},
   "outputs": [
    {
     "data": {
      "text/plain": [
       "143"
      ]
     },
     "execution_count": 7,
     "metadata": {},
     "output_type": "execute_result"
    }
   ],
   "source": [
    "boundary"
   ]
  },
  {
   "cell_type": "code",
   "execution_count": null,
   "metadata": {},
   "outputs": [],
   "source": []
  }
 ],
 "metadata": {
  "kernelspec": {
   "display_name": "Python 3",
   "language": "python",
   "name": "python3"
  },
  "language_info": {
   "codemirror_mode": {
    "name": "ipython",
    "version": 3
   },
   "file_extension": ".py",
   "mimetype": "text/x-python",
   "name": "python",
   "nbconvert_exporter": "python",
   "pygments_lexer": "ipython3",
   "version": "3.6.8"
  }
 },
 "nbformat": 4,
 "nbformat_minor": 2
}
