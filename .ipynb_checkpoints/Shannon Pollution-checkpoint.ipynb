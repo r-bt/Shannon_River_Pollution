{
 "cells": [
  {
   "cell_type": "code",
   "execution_count": 1,
   "metadata": {},
   "outputs": [
    {
     "ename": "ModuleNotFoundError",
     "evalue": "No module named 'cartopy'",
     "output_type": "error",
     "traceback": [
      "\u001b[0;31m---------------------------------------------------------------------------\u001b[0m",
      "\u001b[0;31mModuleNotFoundError\u001b[0m                       Traceback (most recent call last)",
      "\u001b[0;32m<ipython-input-1-a11b4f5c45bb>\u001b[0m in \u001b[0;36m<module>\u001b[0;34m\u001b[0m\n\u001b[1;32m      1\u001b[0m \u001b[0;32mimport\u001b[0m \u001b[0mmatplotlib\u001b[0m\u001b[0;34m.\u001b[0m\u001b[0mpyplot\u001b[0m \u001b[0;32mas\u001b[0m \u001b[0mplt\u001b[0m\u001b[0;34m\u001b[0m\u001b[0;34m\u001b[0m\u001b[0m\n\u001b[0;32m----> 2\u001b[0;31m \u001b[0;32mimport\u001b[0m \u001b[0mcartopy\u001b[0m\u001b[0;34m.\u001b[0m\u001b[0mcrs\u001b[0m \u001b[0;32mas\u001b[0m \u001b[0mccrs\u001b[0m\u001b[0;34m\u001b[0m\u001b[0;34m\u001b[0m\u001b[0m\n\u001b[0m\u001b[1;32m      3\u001b[0m \u001b[0;32mimport\u001b[0m \u001b[0mcartopy\u001b[0m\u001b[0;34m.\u001b[0m\u001b[0mfeature\u001b[0m \u001b[0;32mas\u001b[0m \u001b[0mcf\u001b[0m\u001b[0;34m\u001b[0m\u001b[0;34m\u001b[0m\u001b[0m\n\u001b[1;32m      4\u001b[0m \u001b[0;32mimport\u001b[0m \u001b[0mcartopy\u001b[0m\u001b[0;34m.\u001b[0m\u001b[0mio\u001b[0m\u001b[0;34m.\u001b[0m\u001b[0mshapereader\u001b[0m \u001b[0;32mas\u001b[0m \u001b[0mshapereader\u001b[0m\u001b[0;34m\u001b[0m\u001b[0;34m\u001b[0m\u001b[0m\n\u001b[1;32m      5\u001b[0m \u001b[0;32mimport\u001b[0m \u001b[0mnumpy\u001b[0m \u001b[0;32mas\u001b[0m \u001b[0mnp\u001b[0m\u001b[0;34m\u001b[0m\u001b[0;34m\u001b[0m\u001b[0m\n",
      "\u001b[0;31mModuleNotFoundError\u001b[0m: No module named 'cartopy'"
     ]
    }
   ],
   "source": [
    "import matplotlib.pyplot as plt\n",
    "import cartopy.crs as ccrs\n",
    "import cartopy.feature as cf\n",
    "import cartopy.io.shapereader as shapereader\n",
    "import numpy as np"
   ]
  },
  {
   "cell_type": "code",
   "execution_count": null,
   "metadata": {},
   "outputs": [],
   "source": [
    "SHANNON_EXTENT = [-9, -7, 52.5, 54.25]"
   ]
  },
  {
   "cell_type": "raw",
   "metadata": {},
   "source": [
    "# fig = plt.figure(figsize=(8, 8))\n",
    "# ax = plt.axes(projection=ccrs.epsg(29902))\n",
    "# ax.set_title(\"Ireland - River Shannon\")\n",
    "# ax.add_feature(river_features)\n",
    "# ax.add_feature(coastline_feature)\n",
    "# ax.set_extent(SHANNON_EXTENT, crs=ccrs.PlateCarree())"
   ]
  },
  {
   "cell_type": "code",
   "execution_count": null,
   "metadata": {
    "scrolled": false
   },
   "outputs": [],
   "source": [
    "rivers_file = shapereader.natural_earth(\n",
    "    resolution = '10m',\n",
    "    category = 'physical',\n",
    "    name = 'rivers_lake_centerlines_scale_rank'\n",
    ")\n",
    "\n",
    "rivers_shp = shapereader.Reader(rivers_file)\n",
    "\n",
    "fig = plt.figure(figsize=(8, 8))\n",
    "ax = plt.axes(projection=ccrs.epsg(29902))\n",
    "ax.set_title(\"Ireland - River Shannon\")\n",
    "\n",
    "for rec in rivers_shp.records():\n",
    "    if rec.attributes['name'] == 'Shannon':\n",
    "        ax.add_geometries([rec.geometry], ccrs.PlateCarree(), edgecolor='black', facecolor='blue')\n",
    "    pass\n",
    "\n",
    "ax.coastlines(resolution='50m')\n",
    "ax.set_extent(SHANNON_EXTENT)\n"
   ]
  },
  {
   "cell_type": "markdown",
   "metadata": {},
   "source": [
    "## Extracting coordiantes of the river"
   ]
  },
  {
   "cell_type": "code",
   "execution_count": null,
   "metadata": {},
   "outputs": [],
   "source": [
    "shannon_cords = []\n",
    "\n",
    "for rec in rivers_shp.records():\n",
    "    if rec.attributes['name'] == 'Shannon':\n",
    "        for linestring in rec.geometry:\n",
    "            for coords in linestring.coords:\n",
    "                shannon_cords.append(coords)\n",
    "    pass"
   ]
  },
  {
   "cell_type": "code",
   "execution_count": null,
   "metadata": {},
   "outputs": [],
   "source": [
    "boundary = np.array(shannon_cords)"
   ]
  },
  {
   "cell_type": "markdown",
   "metadata": {},
   "source": [
    "## Plot boundary"
   ]
  },
  {
   "cell_type": "code",
   "execution_count": null,
   "metadata": {},
   "outputs": [],
   "source": [
    "plt.plot(boundary[:,0], boundary[:,1], 'ko')\n",
    "plt.axis([-12, -7, 52.25, 54.5])\n",
    "plt.figure(figsize=(50,20))"
   ]
  },
  {
   "cell_type": "markdown",
   "metadata": {},
   "source": [
    "## Creating the mesh"
   ]
  },
  {
   "cell_type": "code",
   "execution_count": null,
   "metadata": {},
   "outputs": [],
   "source": [
    "from meshpy.triangle import MeshInfo, build"
   ]
  },
  {
   "cell_type": "code",
   "execution_count": null,
   "metadata": {},
   "outputs": [],
   "source": [
    "mesh_info = MeshInfo()\n",
    "mesh_info.set_points(boundary)\n",
    "mesh_info.set_facets([list(range(0, len(boundary)))])\n",
    "mesh = build(mesh_info)\n",
    "# print(\"Mesh Points:\")\n",
    "# for i, p in enumerate(mesh.points):\n",
    "#     print(i, p)\n",
    "# print(\"Point numbers in tetrahedra:\")\n",
    "# for i, t in enumerate(mesh.elements):\n",
    "#     print(i, t)"
   ]
  },
  {
   "cell_type": "code",
   "execution_count": null,
   "metadata": {},
   "outputs": [],
   "source": [
    "list(range(0, len(boundary)))"
   ]
  },
  {
   "cell_type": "code",
   "execution_count": null,
   "metadata": {},
   "outputs": [],
   "source": []
  }
 ],
 "metadata": {
  "kernelspec": {
   "display_name": "Python 3",
   "language": "python",
   "name": "python3"
  },
  "language_info": {
   "codemirror_mode": {
    "name": "ipython",
    "version": 3
   },
   "file_extension": ".py",
   "mimetype": "text/x-python",
   "name": "python",
   "nbconvert_exporter": "python",
   "pygments_lexer": "ipython3",
   "version": "3.6.8"
  }
 },
 "nbformat": 4,
 "nbformat_minor": 2
}
